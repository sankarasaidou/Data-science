{
 "cells": [
  {
   "cell_type": "code",
   "execution_count": null,
   "id": "bd35e10a-0dd9-49f2-8ab8-6ff19fd644ce",
   "metadata": {},
   "outputs": [],
   "source": [
    "# Mon Projet Final en Science des Données"
   ]
  },
  {
   "cell_type": "code",
   "execution_count": null,
   "id": "e3058c60-42ea-466d-b7db-3a0b5b417465",
   "metadata": {},
   "outputs": [],
   "source": [
    "## Introduction  \n",
    "#Ce notebook est un projet final pour le cours de science des données. \n",
    "#Il couvre plusieurs concepts comme les langages, les bibliothèques, et des exemples de calculs."
   ]
  },
  {
   "cell_type": "code",
   "execution_count": null,
   "id": "5b758cc6-f31f-4540-a144-352fb833dc91",
   "metadata": {},
   "outputs": [],
   "source": [
    "## Langages de la Science des Données  \n",
    "Les principaux langages utilisés en science des données sont :  \n",
    "- Python  \n",
    "- R  \n",
    "- SQL  \n",
    "- Julia  \n",
    "- Scala  \n"
   ]
  },
  {
   "cell_type": "code",
   "execution_count": null,
   "id": "acdb8399-85af-4d9b-adbf-9f3a114e3642",
   "metadata": {},
   "outputs": [],
   "source": [
    "## Bibliothèques de Science des Données  \n",
    "Les bibliothèques couramment utilisées en science des données sont :  \n",
    "- NumPy  \n",
    "- Pandas  \n",
    "- Matplotlib  \n",
    "- Scikit-learn  \n",
    "- TensorFlow  \n",
    "- PyTorch  \n"
   ]
  },
  {
   "cell_type": "code",
   "execution_count": null,
   "id": "367d1600-9222-495f-a6b6-a14137ae2e97",
   "metadata": {},
   "outputs": [],
   "source": [
    "## Outils de Science des Données  \n",
    "\n",
    "| Outil              | Utilisation               |  \n",
    "|--------------------|--------------------------|  \n",
    "| Jupyter Notebook  | Développement et analyse  |  \n",
    "| RStudio          | Analyse statistique       |  \n",
    "| Apache Spark     | Big Data                   |  \n",
    "| TensorFlow       | Apprentissage automatique  |  \n",
    "| Tableau          | Visualisation des données  |  \n"
   ]
  },
  {
   "cell_type": "code",
   "execution_count": 11,
   "id": "c5ae5814-27fc-4cc0-8b09-f2e582e251eb",
   "metadata": {},
   "outputs": [
    {
     "data": {
      "text/plain": [
       "8"
      ]
     },
     "execution_count": 11,
     "metadata": {},
     "output_type": "execute_result"
    }
   ],
   "source": [
    "## Exemples d'Expressions Arithmétiques  \n",
    "#Quelques exemples de calculs :  \n",
    "Addition = 5 + 3   \n",
    "Addition"
   ]
  },
  {
   "cell_type": "code",
   "execution_count": 12,
   "id": "e867f78a-a809-4a0a-aa52-9f666b47d994",
   "metadata": {},
   "outputs": [
    {
     "data": {
      "text/plain": [
       "8"
      ]
     },
     "execution_count": 12,
     "metadata": {},
     "output_type": "execute_result"
    }
   ],
   "source": [
    "Multiplication = 4 * 2 \n",
    "Multiplication"
   ]
  },
  {
   "cell_type": "code",
   "execution_count": 13,
   "id": "3457b6df-4125-441e-b5c9-90b186d9c074",
   "metadata": {},
   "outputs": [
    {
     "data": {
      "text/plain": [
       "5.0"
      ]
     },
     "execution_count": 13,
     "metadata": {},
     "output_type": "execute_result"
    }
   ],
   "source": [
    "Division = 10 / 2\n",
    "Division"
   ]
  },
  {
   "cell_type": "code",
   "execution_count": 1,
   "id": "e7baab66-ec60-4c0d-bc91-bffdf4b4d7ff",
   "metadata": {},
   "outputs": [
    {
     "data": {
      "text/plain": [
       "17"
      ]
     },
     "execution_count": 1,
     "metadata": {},
     "output_type": "execute_result"
    }
   ],
   "source": [
    "# Multiplication et addition\n",
    "a = 5\n",
    "b = 3\n",
    "result = (a * b) + 2\n",
    "result"
   ]
  },
  {
   "cell_type": "code",
   "execution_count": 2,
   "id": "da6e63aa-1e51-48c2-9d04-2e168b7dad46",
   "metadata": {},
   "outputs": [
    {
     "data": {
      "text/plain": [
       "2.0"
      ]
     },
     "execution_count": 2,
     "metadata": {},
     "output_type": "execute_result"
    }
   ],
   "source": [
    "# Conversion des minutes en heures\n",
    "minutes = 120\n",
    "heures = minutes / 60\n",
    "heures\n"
   ]
  },
  {
   "cell_type": "code",
   "execution_count": null,
   "id": "3c569d37-0dc0-4935-8476-d76e09ec9566",
   "metadata": {},
   "outputs": [],
   "source": [
    "## Objectifs  \n",
    "Ce projet vise à :  \n",
    "- Présenter les concepts de la science des données  \n",
    "- Montrer comment utiliser Jupyter Notebook  \n",
    "- Fournir des exemples pratiques de code  \n"
   ]
  },
  {
   "cell_type": "code",
   "execution_count": null,
   "id": "fb6ff35b-ccbd-4448-bc71-960415c43f9e",
   "metadata": {},
   "outputs": [],
   "source": [
    "## Auteur  \n",
    "Nom : SANKARA Saïdou  \n"
   ]
  }
 ],
 "metadata": {
  "kernelspec": {
   "display_name": "Python 3 (ipykernel)",
   "language": "python",
   "name": "python3"
  },
  "language_info": {
   "codemirror_mode": {
    "name": "ipython",
    "version": 3
   },
   "file_extension": ".py",
   "mimetype": "text/x-python",
   "name": "python",
   "nbconvert_exporter": "python",
   "pygments_lexer": "ipython3",
   "version": "3.10.9"
  }
 },
 "nbformat": 4,
 "nbformat_minor": 5
}
