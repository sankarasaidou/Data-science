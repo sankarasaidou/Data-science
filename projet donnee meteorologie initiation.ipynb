{
 "cells": [
  {
   "cell_type": "code",
   "execution_count": 2,
   "id": "6c48ef27",
   "metadata": {},
   "outputs": [
    {
     "name": "stdout",
     "output_type": "stream",
     "text": [
      "                  DATE  HOURLYVISIBILITY  HOURLYDRYBULBTEMPF  \\\n",
      "0  2010-01-01 01:00:00               6.0                33.0   \n",
      "1  2010-01-01 02:00:00               6.0                33.0   \n",
      "2  2010-01-01 03:00:00               5.0                33.0   \n",
      "3  2010-01-01 04:00:00               5.0                33.0   \n",
      "4  2010-01-01 05:00:00               5.0                33.0   \n",
      "\n",
      "   HOURLYWETBULBTEMPF  HOURLYDewPointTempF  HOURLYRelativeHumidity  \\\n",
      "0                32.0                 31.0                    92.0   \n",
      "1                33.0                 32.0                    96.0   \n",
      "2                33.0                 32.0                    96.0   \n",
      "3                33.0                 32.0                    96.0   \n",
      "4                32.0                 31.0                    92.0   \n",
      "\n",
      "   HOURLYWindSpeed  HOURLYStationPressure  HOURLYSeaLevelPressure  \\\n",
      "0              0.0                  29.97                   29.99   \n",
      "1              0.0                  29.97                   29.99   \n",
      "2              0.0                  29.97                   29.99   \n",
      "3              0.0                  29.95                   29.97   \n",
      "4              0.0                  29.93                   29.96   \n",
      "\n",
      "   HOURLYPrecip  HOURLYAltimeterSetting  HOURLYWindDirectionSin  \\\n",
      "0          0.01                   29.99                     0.0   \n",
      "1          0.02                   29.99                     0.0   \n",
      "2          0.00                   29.99                     0.0   \n",
      "3          0.00                   29.97                     0.0   \n",
      "4          0.00                   29.95                     0.0   \n",
      "\n",
      "   HOURLYWindDirectionCos  HOURLYPressureTendencyIncr  \\\n",
      "0                     1.0                           0   \n",
      "1                     1.0                           0   \n",
      "2                     1.0                           0   \n",
      "3                     1.0                           0   \n",
      "4                     1.0                           0   \n",
      "\n",
      "   HOURLYPressureTendencyDecr  HOURLYPressureTendencyCons  \n",
      "0                           1                           0  \n",
      "1                           1                           0  \n",
      "2                           1                           0  \n",
      "3                           1                           0  \n",
      "4                           1                           0  \n",
      "DATE                           object\n",
      "HOURLYVISIBILITY              float64\n",
      "HOURLYDRYBULBTEMPF            float64\n",
      "HOURLYWETBULBTEMPF            float64\n",
      "HOURLYDewPointTempF           float64\n",
      "HOURLYRelativeHumidity        float64\n",
      "HOURLYWindSpeed               float64\n",
      "HOURLYStationPressure         float64\n",
      "HOURLYSeaLevelPressure        float64\n",
      "HOURLYPrecip                  float64\n",
      "HOURLYAltimeterSetting        float64\n",
      "HOURLYWindDirectionSin        float64\n",
      "HOURLYWindDirectionCos        float64\n",
      "HOURLYPressureTendencyIncr      int64\n",
      "HOURLYPressureTendencyDecr      int64\n",
      "HOURLYPressureTendencyCons      int64\n",
      "dtype: object\n"
     ]
    }
   ],
   "source": [
    "import pandas as pd\n",
    "\n",
    "chemin_fichier = \"C:/Users/SANKARA/Downloads/noaa-weather-data-jfk-airport/noaa-weather-data-jfk-airport/jfk_weather_cleaned.csv\"\n",
    "\n",
    "# Charger le fichier CSV dans un DataFrame\n",
    "df = pd.read_csv(chemin_fichier)\n",
    "\n",
    "# Afficher les 5 premières lignes  \n",
    "print(df.head())  \n",
    "# Afficher les types de données des colonnes  \n",
    "print(df.dtypes)  "
   ]
  },
  {
   "cell_type": "code",
   "execution_count": null,
   "id": "c32d161a",
   "metadata": {},
   "outputs": [],
   "source": []
  }
 ],
 "metadata": {
  "kernelspec": {
   "display_name": "Python 3 (ipykernel)",
   "language": "python",
   "name": "python3"
  },
  "language_info": {
   "codemirror_mode": {
    "name": "ipython",
    "version": 3
   },
   "file_extension": ".py",
   "mimetype": "text/x-python",
   "name": "python",
   "nbconvert_exporter": "python",
   "pygments_lexer": "ipython3",
   "version": "3.10.9"
  }
 },
 "nbformat": 4,
 "nbformat_minor": 5
}
