{
 "cells": [
  {
   "cell_type": "code",
   "execution_count": null,
   "id": "645ca492-a9cc-405e-b567-c2d4c0116a4e",
   "metadata": {},
   "outputs": [],
   "source": [
    "\n",
    "# ## Tâche 1 : Télécharger et décompresser les données météorologiques de la NOAA\n",
    "\n",
    "import requests\n",
    "import zipfile\n",
    "import io\n",
    "\n",
    "url = \"https://dax-cdn.cdn.appdomain.cloud/dax-noaa-weather-data-jfk-airport/1.1.4/noaa_weather.html\"  \n",
    "print(\"Téléchargement du fichier ZIP...\")\n",
    "r = requests.get(url)\n",
    "if r.status_code == 200:\n",
    "    with zipfile.ZipFile(io.BytesIO(r.content)) as z:\n",
    "        z.extractall(\"data\")  # Les fichiers seront extraits dans le dossier \"data\"\n",
    "    print(\"Téléchargement et décompression réussis.\")\n",
    "else:\n",
    "    print(\"Erreur lors du téléchargement :\", r.status_code)"
   ]
  },
  {
   "cell_type": "code",
   "execution_count": 2,
   "id": "02e22872-3a92-4478-93a9-c32131e4bc82",
   "metadata": {},
   "outputs": [
    {
     "name": "stdout",
     "output_type": "stream",
     "text": [
      "                  DATE  HOURLYVISIBILITY  HOURLYDRYBULBTEMPF  \\\n",
      "0  2010-01-01 01:00:00               6.0                33.0   \n",
      "1  2010-01-01 02:00:00               6.0                33.0   \n",
      "2  2010-01-01 03:00:00               5.0                33.0   \n",
      "3  2010-01-01 04:00:00               5.0                33.0   \n",
      "4  2010-01-01 05:00:00               5.0                33.0   \n",
      "\n",
      "   HOURLYWETBULBTEMPF  HOURLYDewPointTempF  HOURLYRelativeHumidity  \\\n",
      "0                32.0                 31.0                    92.0   \n",
      "1                33.0                 32.0                    96.0   \n",
      "2                33.0                 32.0                    96.0   \n",
      "3                33.0                 32.0                    96.0   \n",
      "4                32.0                 31.0                    92.0   \n",
      "\n",
      "   HOURLYWindSpeed  HOURLYStationPressure  HOURLYSeaLevelPressure  \\\n",
      "0              0.0                  29.97                   29.99   \n",
      "1              0.0                  29.97                   29.99   \n",
      "2              0.0                  29.97                   29.99   \n",
      "3              0.0                  29.95                   29.97   \n",
      "4              0.0                  29.93                   29.96   \n",
      "\n",
      "   HOURLYPrecip  HOURLYAltimeterSetting  HOURLYWindDirectionSin  \\\n",
      "0          0.01                   29.99                     0.0   \n",
      "1          0.02                   29.99                     0.0   \n",
      "2          0.00                   29.99                     0.0   \n",
      "3          0.00                   29.97                     0.0   \n",
      "4          0.00                   29.95                     0.0   \n",
      "\n",
      "   HOURLYWindDirectionCos  HOURLYPressureTendencyIncr  \\\n",
      "0                     1.0                           0   \n",
      "1                     1.0                           0   \n",
      "2                     1.0                           0   \n",
      "3                     1.0                           0   \n",
      "4                     1.0                           0   \n",
      "\n",
      "   HOURLYPressureTendencyDecr  HOURLYPressureTendencyCons  \n",
      "0                           1                           0  \n",
      "1                           1                           0  \n",
      "2                           1                           0  \n",
      "3                           1                           0  \n",
      "4                           1                           0  \n"
     ]
    }
   ],
   "source": [
    "import pandas as pd\n",
    "\n",
    "chemin_fichier = \"C:/Users/SANKARA/Downloads/noaa-weather-data-jfk-airport/noaa-weather-data-jfk-airport/jfk_weather_cleaned.csv\"\n",
    "\n",
    "# Charger le fichier CSV dans un DataFrame\n",
    "df = pd.read_csv(chemin_fichier)\n",
    "\n",
    "# Affiche les premières lignes pour vérifier l'importation\n",
    "print(df.head())\n"
   ]
  },
  {
   "cell_type": "code",
   "execution_count": 3,
   "id": "d93d1be7-da86-4e3c-bca0-d485ec973133",
   "metadata": {},
   "outputs": [
    {
     "name": "stdout",
     "output_type": "stream",
     "text": [
      "DATE                           object\n",
      "HOURLYVISIBILITY              float64\n",
      "HOURLYDRYBULBTEMPF            float64\n",
      "HOURLYWETBULBTEMPF            float64\n",
      "HOURLYDewPointTempF           float64\n",
      "HOURLYRelativeHumidity        float64\n",
      "HOURLYWindSpeed               float64\n",
      "HOURLYStationPressure         float64\n",
      "HOURLYSeaLevelPressure        float64\n",
      "HOURLYPrecip                  float64\n",
      "HOURLYAltimeterSetting        float64\n",
      "HOURLYWindDirectionSin        float64\n",
      "HOURLYWindDirectionCos        float64\n",
      "HOURLYPressureTendencyIncr      int64\n",
      "HOURLYPressureTendencyDecr      int64\n",
      "HOURLYPressureTendencyCons      int64\n",
      "dtype: object\n"
     ]
    }
   ],
   "source": [
    "# Afficher les types de données des colonnes  \n",
    "print(df.dtypes)  "
   ]
  },
  {
   "cell_type": "code",
   "execution_count": 4,
   "id": "5e563019-e108-458c-9b16-4f692df98c21",
   "metadata": {},
   "outputs": [
    {
     "name": "stdout",
     "output_type": "stream",
     "text": [
      "                  DATE  HOURLYVISIBILITY  HOURLYDRYBULBTEMPF  \\\n",
      "0  2010-01-01 01:00:00               6.0                33.0   \n",
      "1  2010-01-01 02:00:00               6.0                33.0   \n",
      "2  2010-01-01 03:00:00               5.0                33.0   \n",
      "3  2010-01-01 04:00:00               5.0                33.0   \n",
      "4  2010-01-01 05:00:00               5.0                33.0   \n",
      "\n",
      "   HOURLYWETBULBTEMPF  HOURLYDewPointTempF  HOURLYRelativeHumidity  \\\n",
      "0                32.0                 31.0                    92.0   \n",
      "1                33.0                 32.0                    96.0   \n",
      "2                33.0                 32.0                    96.0   \n",
      "3                33.0                 32.0                    96.0   \n",
      "4                32.0                 31.0                    92.0   \n",
      "\n",
      "   HOURLYWindSpeed  HOURLYStationPressure  HOURLYSeaLevelPressure  \\\n",
      "0              0.0                  29.97                   29.99   \n",
      "1              0.0                  29.97                   29.99   \n",
      "2              0.0                  29.97                   29.99   \n",
      "3              0.0                  29.95                   29.97   \n",
      "4              0.0                  29.93                   29.96   \n",
      "\n",
      "   HOURLYPrecip  HOURLYAltimeterSetting  HOURLYWindDirectionSin  \\\n",
      "0          0.01                   29.99                     0.0   \n",
      "1          0.02                   29.99                     0.0   \n",
      "2          0.00                   29.99                     0.0   \n",
      "3          0.00                   29.97                     0.0   \n",
      "4          0.00                   29.95                     0.0   \n",
      "\n",
      "   HOURLYWindDirectionCos  HOURLYPressureTendencyIncr  \\\n",
      "0                     1.0                           0   \n",
      "1                     1.0                           0   \n",
      "2                     1.0                           0   \n",
      "3                     1.0                           0   \n",
      "4                     1.0                           0   \n",
      "\n",
      "   HOURLYPressureTendencyDecr  HOURLYPressureTendencyCons  \n",
      "0                           1                           0  \n",
      "1                           1                           0  \n",
      "2                           1                           0  \n",
      "3                           1                           0  \n",
      "4                           1                           0  \n"
     ]
    }
   ],
   "source": [
    "# Afficher les 5 premières lignes  \n",
    "print(df.head())  "
   ]
  },
  {
   "cell_type": "code",
   "execution_count": 23,
   "id": "81732bdb-1036-41ab-8907-302ae0e67019",
   "metadata": {},
   "outputs": [
    {
     "name": "stdout",
     "output_type": "stream",
     "text": [
      "Colonnes redondantes supprimées. Colonnes restantes :\n",
      "Index(['DATE', 'HOURLYVISIBILITY', 'HOURLYDRYBULBTEMPF', 'HOURLYWETBULBTEMPF',\n",
      "       'HOURLYDewPointTempF', 'HOURLYRelativeHumidity', 'HOURLYWindSpeed',\n",
      "       'HOURLYStationPressure', 'HOURLYSeaLevelPressure', 'HOURLYPrecip',\n",
      "       'HOURLYAltimeterSetting', 'HOURLYWindDirectionSin',\n",
      "       'HOURLYWindDirectionCos', 'HOURLYPressureTendencyIncr',\n",
      "       'HOURLYPressureTendencyDecr', 'HOURLYPressureTendencyCons'],\n",
      "      dtype='object')\n"
     ]
    }
   ],
   "source": [
    "\n",
    "# ## Tâche 3 : Supprimer les colonnes redondantes\n",
    "# Indiquez ici les colonnes à supprimer (par exemple, \"Unnamed: 0\" ou d'autres colonnes inutiles).\n",
    "\n",
    "colonnes_a_supprimer = [\"Unnamed: 0\", \"Redundant_Column\"]  # Adapter selon vos données\n",
    "df.drop(columns=colonnes_a_supprimer, inplace=True, errors=\"ignore\")\n",
    "print(\"Colonnes redondantes supprimées. Colonnes restantes :\")\n",
    "print(df.columns)\n"
   ]
  },
  {
   "cell_type": "code",
   "execution_count": 33,
   "id": "22f8df5a-ac27-4737-94b0-02ffa7c539a9",
   "metadata": {},
   "outputs": [
    {
     "name": "stdout",
     "output_type": "stream",
     "text": [
      "                      DATE  HOURLYVISIBILITY  HOURLYDRYBULBTEMPF  \\\n",
      "0      2010-01-01 01:00:00               6.0                33.0   \n",
      "1      2010-01-01 02:00:00               6.0                33.0   \n",
      "2      2010-01-01 03:00:00               5.0                33.0   \n",
      "3      2010-01-01 04:00:00               5.0                33.0   \n",
      "4      2010-01-01 05:00:00               5.0                33.0   \n",
      "...                    ...               ...                 ...   \n",
      "75114  2018-07-27 19:00:00              10.0                76.0   \n",
      "75115  2018-07-27 20:00:00               4.0                69.0   \n",
      "75116  2018-07-27 21:00:00              10.0                71.0   \n",
      "75117  2018-07-27 22:00:00              10.0                72.0   \n",
      "75118  2018-07-27 23:00:00              10.0                72.0   \n",
      "\n",
      "       HOURLYWETBULBTEMPF  HOURLYDewPointTempF  HOURLYRelativeHumidity  \\\n",
      "0                    32.0                 31.0                    92.0   \n",
      "1                    33.0                 32.0                    96.0   \n",
      "2                    33.0                 32.0                    96.0   \n",
      "3                    33.0                 32.0                    96.0   \n",
      "4                    32.0                 31.0                    92.0   \n",
      "...                   ...                  ...                     ...   \n",
      "75114                73.0                 72.0                    88.0   \n",
      "75115                69.0                 69.0                   100.0   \n",
      "75116                70.0                 70.0                    96.0   \n",
      "75117                71.0                 70.0                    94.0   \n",
      "75118                71.0                 71.0                    97.0   \n",
      "\n",
      "       HOURLYWindSpeed  HOURLYStationPressure  HOURLYSeaLevelPressure  \\\n",
      "0                  0.0                  29.97                   29.99   \n",
      "1                  0.0                  29.97                   29.99   \n",
      "2                  0.0                  29.97                   29.99   \n",
      "3                  0.0                  29.95                   29.97   \n",
      "4                  0.0                  29.93                   29.96   \n",
      "...                ...                    ...                     ...   \n",
      "75114              3.0                  30.00                   30.02   \n",
      "75115             13.0                  29.99                   30.01   \n",
      "75116              0.0                  30.02                   30.04   \n",
      "75117              5.0                  30.00                   30.02   \n",
      "75118              0.0                  30.01                   30.03   \n",
      "\n",
      "       HOURLYPrecip  HOURLYAltimeterSetting  HOURLYWindDirectionSin  \\\n",
      "0              0.01                   29.99                0.000000   \n",
      "1              0.02                   29.99                0.000000   \n",
      "2              0.00                   29.99                0.000000   \n",
      "3              0.00                   29.97                0.000000   \n",
      "4              0.00                   29.95                0.000000   \n",
      "...             ...                     ...                     ...   \n",
      "75114          0.00                   30.02               -0.766044   \n",
      "75115          1.16                   30.01                0.642788   \n",
      "75116          0.01                   30.04                0.000000   \n",
      "75117          0.00                   30.02                0.766044   \n",
      "75118          0.00                   30.03                0.000000   \n",
      "\n",
      "       HOURLYWindDirectionCos  HOURLYPressureTendencyIncr  \\\n",
      "0                    1.000000                           0   \n",
      "1                    1.000000                           0   \n",
      "2                    1.000000                           0   \n",
      "3                    1.000000                           0   \n",
      "4                    1.000000                           0   \n",
      "...                       ...                         ...   \n",
      "75114               -0.642788                           1   \n",
      "75115                0.766044                           1   \n",
      "75116                1.000000                           1   \n",
      "75117                0.642788                           1   \n",
      "75118                1.000000                           1   \n",
      "\n",
      "       HOURLYPressureTendencyDecr  HOURLYPressureTendencyCons  \n",
      "0                               1                           0  \n",
      "1                               1                           0  \n",
      "2                               1                           0  \n",
      "3                               1                           0  \n",
      "4                               1                           0  \n",
      "...                           ...                         ...  \n",
      "75114                           0                           0  \n",
      "75115                           0                           0  \n",
      "75116                           0                           0  \n",
      "75117                           0                           0  \n",
      "75118                           0                           0  \n",
      "\n",
      "[75119 rows x 16 columns]\n"
     ]
    }
   ],
   "source": [
    "\n",
    "# ## Tâche 4 : Nettoyer les colonnes\n",
    "# Par exemple, enlever les espaces superflus dans les noms de colonnes et dans certains contenus.\n",
    "\n",
    "df.columns = df.columns.str.strip()\n",
    "# Exemple : nettoyage de la colonne \"Station\" si elle existe\n",
    "if \"Station\" in df.columns:\n",
    "    df[\"Station\"] = df[\"Station\"].str.strip()\n",
    "print(df)"
   ]
  },
  {
   "cell_type": "code",
   "execution_count": 25,
   "id": "b5f9d8cb-2cbc-4499-91cc-d1743cf4bbca",
   "metadata": {},
   "outputs": [
    {
     "name": "stdout",
     "output_type": "stream",
     "text": [
      "Types de données après conversion :\n",
      "DATE                           object\n",
      "HOURLYVISIBILITY              float64\n",
      "HOURLYDRYBULBTEMPF            float64\n",
      "HOURLYWETBULBTEMPF            float64\n",
      "HOURLYDewPointTempF           float64\n",
      "HOURLYRelativeHumidity        float64\n",
      "HOURLYWindSpeed               float64\n",
      "HOURLYStationPressure         float64\n",
      "HOURLYSeaLevelPressure        float64\n",
      "HOURLYPrecip                  float64\n",
      "HOURLYAltimeterSetting        float64\n",
      "HOURLYWindDirectionSin        float64\n",
      "HOURLYWindDirectionCos        float64\n",
      "HOURLYPressureTendencyIncr      int64\n",
      "HOURLYPressureTendencyDecr      int64\n",
      "HOURLYPressureTendencyCons      int64\n",
      "dtype: object\n"
     ]
    }
   ],
   "source": [
    "\n",
    "# ## Tâche 5 : Convertir les colonnes en types numériques\n",
    "# Spécifiez ici les colonnes devant être numériques (par ex., \"Temperature\", \"Precipitation\", \"WindSpeed\").\n",
    "\n",
    "colonnes_numeriques = [\"Temperature\", \"Precipitation\", \"WindSpeed\"]  # Adapter selon vos données\n",
    "for col in colonnes_numeriques:\n",
    "    if col in df.columns:\n",
    "        df[col] = pd.to_numeric(df[col], errors=\"coerce\")\n",
    "print(\"Types de données après conversion :\")\n",
    "print(df.dtypes)\n"
   ]
  },
  {
   "cell_type": "code",
   "execution_count": 26,
   "id": "e70a46f2-2380-4d34-8803-18b60b459e0c",
   "metadata": {},
   "outputs": [
    {
     "name": "stdout",
     "output_type": "stream",
     "text": [
      "Nouveaux noms de colonnes :\n",
      "Index(['DATE', 'HOURLYVISIBILITY', 'HOURLYDRYBULBTEMPF', 'HOURLYWETBULBTEMPF',\n",
      "       'HOURLYDewPointTempF', 'HOURLYRelativeHumidity', 'HOURLYWindSpeed',\n",
      "       'HOURLYStationPressure', 'HOURLYSeaLevelPressure', 'HOURLYPrecip',\n",
      "       'HOURLYAltimeterSetting', 'HOURLYWindDirectionSin',\n",
      "       'HOURLYWindDirectionCos', 'HOURLYPressureTendencyIncr',\n",
      "       'HOURLYPressureTendencyDecr', 'HOURLYPressureTendencyCons'],\n",
      "      dtype='object')\n"
     ]
    }
   ],
   "source": [
    "\n",
    "# ## Tâche 6 : Renommer les colonnes de données\n",
    "# Par exemple, renommer \"Temp\" en \"Temperature\", \"Precip\" en \"Precipitation\", etc.\n",
    "\n",
    "df.rename(columns={\n",
    "    \"Temp\": \"Temperature\",\n",
    "    \"Precip\": \"Precipitation\",\n",
    "    \"Wind\": \"WindSpeed\"\n",
    "}, inplace=True)\n",
    "print(\"Nouveaux noms de colonnes :\")\n",
    "print(df.columns)\n"
   ]
  },
  {
   "cell_type": "code",
   "execution_count": 27,
   "id": "a0a9a2bf-3a00-41ae-8fe0-0c20aa27877b",
   "metadata": {},
   "outputs": [
    {
     "name": "stdout",
     "output_type": "stream",
     "text": [
      "Résumé statistique :\n",
      "       HOURLYVISIBILITY  HOURLYDRYBULBTEMPF  HOURLYWETBULBTEMPF  \\\n",
      "count      75119.000000        75119.000000        75119.000000   \n",
      "mean           9.205796           55.355509           49.333830   \n",
      "std            2.209374           17.393210           16.178678   \n",
      "min            0.000000            1.000000           -1.000000   \n",
      "25%           10.000000           42.000000           36.000000   \n",
      "50%           10.000000           56.000000           50.000000   \n",
      "75%           10.000000           70.000000           63.000000   \n",
      "max           10.000000          102.000000           85.000000   \n",
      "\n",
      "       HOURLYDewPointTempF  HOURLYRelativeHumidity  HOURLYWindSpeed  \\\n",
      "count         75119.000000            75119.000000     75119.000000   \n",
      "mean             42.422223               64.809942        11.252965   \n",
      "std              19.577775               19.899904         6.099392   \n",
      "min             -19.000000                8.000000         0.000000   \n",
      "25%              27.000000               49.000000         7.000000   \n",
      "50%              44.000000               66.000000        10.000000   \n",
      "75%              59.000000               82.000000        15.000000   \n",
      "max              84.000000              100.000000        53.000000   \n",
      "\n",
      "       HOURLYStationPressure  HOURLYSeaLevelPressure  HOURLYPrecip  \\\n",
      "count           75119.000000            75119.000000  75119.000000   \n",
      "mean               30.005124               30.026116      0.004574   \n",
      "std                 0.234245                0.233949      0.033581   \n",
      "min                28.490000               28.540000      0.000000   \n",
      "25%                29.860000               29.880000      0.000000   \n",
      "50%                30.000000               30.020000      0.000000   \n",
      "75%                30.150000               30.170000      0.000000   \n",
      "max                30.830000               30.850000      2.410000   \n",
      "\n",
      "       HOURLYAltimeterSetting  HOURLYWindDirectionSin  HOURLYWindDirectionCos  \\\n",
      "count            75119.000000            75119.000000            7.511900e+04   \n",
      "mean                30.025137               -0.166465            2.867949e-02   \n",
      "std                  0.234212                0.629050            7.587989e-01   \n",
      "min                 28.510000               -1.000000           -1.000000e+00   \n",
      "25%                 29.880000               -0.766044           -7.660440e-01   \n",
      "50%                 30.020000               -0.173648            6.123230e-17   \n",
      "75%                 30.170000                0.342020            7.660440e-01   \n",
      "max                 30.850000                1.000000            1.000000e+00   \n",
      "\n",
      "       HOURLYPressureTendencyIncr  HOURLYPressureTendencyDecr  \\\n",
      "count                75119.000000                75119.000000   \n",
      "mean                     0.503468                    0.490835   \n",
      "std                      0.499991                    0.499919   \n",
      "min                      0.000000                    0.000000   \n",
      "25%                      0.000000                    0.000000   \n",
      "50%                      1.000000                    0.000000   \n",
      "75%                      1.000000                    1.000000   \n",
      "max                      1.000000                    1.000000   \n",
      "\n",
      "       HOURLYPressureTendencyCons  \n",
      "count                75119.000000  \n",
      "mean                     0.005698  \n",
      "std                      0.075268  \n",
      "min                      0.000000  \n",
      "25%                      0.000000  \n",
      "50%                      0.000000  \n",
      "75%                      0.000000  \n",
      "max                      1.000000  \n"
     ]
    },
    {
     "data": {
      "text/plain": [
       "<Figure size 800x400 with 0 Axes>"
      ]
     },
     "metadata": {},
     "output_type": "display_data"
    }
   ],
   "source": [
    "\n",
    "# ## Tâche 7 : Analyse exploratoire des données (EDA)\n",
    "# Affichage d'un résumé statistique et d'un histogramme de la température.\n",
    "\n",
    "print(\"Résumé statistique :\")\n",
    "print(df.describe())\n",
    "\n",
    "import matplotlib.pyplot as plt\n",
    "plt.figure(figsize=(8, 4))\n",
    "if \"Temperature\" in df.columns:\n",
    "    plt.hist(df[\"Temperature\"].dropna(), bins=30, color='skyblue', edgecolor='black')\n",
    "    plt.title(\"Distribution de la température\")\n",
    "    plt.xlabel(\"Température\")\n",
    "    plt.ylabel(\"Fréquence\")\n",
    "    plt.show()\n"
   ]
  },
  {
   "cell_type": "code",
   "execution_count": 50,
   "id": "ee1ba240-fff9-4959-92f4-a2867af79c6f",
   "metadata": {},
   "outputs": [
    {
     "name": "stdout",
     "output_type": "stream",
     "text": [
      "Modèle linéaire :\n",
      "Coefficients : [ 3.66301649 -0.45452759]\n",
      "Intercept : 60.42070409607858\n",
      "Score (R²) sur l'ensemble de test : 0.025619575496601765\n"
     ]
    }
   ],
   "source": [
    "# TÂCHE 8 : Régression linéaire\n",
    "from sklearn.linear_model import LinearRegression\n",
    "from sklearn.model_selection import train_test_split\n",
    "\n",
    "# Définir les variables explicatives et la variable cible en utilisant les noms de colonnes réels\n",
    "features = [\"HOURLYPrecip\", \"HOURLYWindSpeed\"]\n",
    "target = \"HOURLYDRYBULBTEMPF\"\n",
    "\n",
    "# Ne garder que les lignes sans valeurs manquantes pour ces colonnes\n",
    "df_model = df.dropna(subset=features + [target])\n",
    "X = df_model[features]\n",
    "y = df_model[target]\n",
    "\n",
    "# Diviser les données en ensembles d'entraînement et de test (80%/20%)\n",
    "X_train, X_test, y_train, y_test = train_test_split(X, y, test_size=0.2, random_state=42)\n",
    "\n",
    "# Créer et entraîner le modèle de régression linéaire\n",
    "lr = LinearRegression()\n",
    "lr.fit(X_train, y_train)\n",
    "\n",
    "print(\"Modèle linéaire :\")\n",
    "print(\"Coefficients :\", lr.coef_)\n",
    "print(\"Intercept :\", lr.intercept_)\n",
    "print(\"Score (R²) sur l'ensemble de test :\", lr.score(X_test, y_test))\n"
   ]
  },
  {
   "cell_type": "code",
   "execution_count": 51,
   "id": "a74e51e3-4894-4231-9552-8956371804f4",
   "metadata": {},
   "outputs": [
    {
     "name": "stdout",
     "output_type": "stream",
     "text": [
      "Modèle polynomial (degré 2) :\n",
      "Score (R²) sur l'ensemble de test : 0.034273156345590916\n"
     ]
    }
   ],
   "source": [
    "# TÂCHE 9 : Améliorer le modèle avec une transformation polynomiale de degré 2\n",
    "from sklearn.preprocessing import PolynomialFeatures\n",
    "\n",
    "# Créer des caractéristiques polynomiales (degré 2) sans biais\n",
    "poly = PolynomialFeatures(degree=2, include_bias=False)\n",
    "X_poly = poly.fit_transform(X)\n",
    "\n",
    "# Diviser les données transformées en ensembles d'entraînement et de test\n",
    "X_train_poly, X_test_poly, y_train, y_test = train_test_split(X_poly, y, test_size=0.2, random_state=42)\n",
    "\n",
    "# Créer et entraîner un modèle de régression linéaire sur les données polynomiales\n",
    "lr_poly = LinearRegression()\n",
    "lr_poly.fit(X_train_poly, y_train)\n",
    "\n",
    "# Évaluer le modèle polynomial avec le score R²\n",
    "score_poly = lr_poly.score(X_test_poly, y_test)\n",
    "print(\"Modèle polynomial (degré 2) :\")\n",
    "print(\"Score (R²) sur l'ensemble de test :\", score_poly)\n"
   ]
  },
  {
   "cell_type": "code",
   "execution_count": 52,
   "id": "37e50722-fcc2-48ef-9af0-cc253c3b92a0",
   "metadata": {},
   "outputs": [
    {
     "name": "stdout",
     "output_type": "stream",
     "text": [
      "Le modèle polynomial est le meilleur avec un score de 0.034\n"
     ]
    }
   ],
   "source": [
    "\n",
    "# ## Tâche 10 : Trouver le meilleur modèle\n",
    "# Comparaison des scores R² entre le modèle linéaire et le modèle polynomial.\n",
    "\n",
    "score_linear = lr.score(X_test, y_test)\n",
    "if score_linear >= score_poly:\n",
    "    print(\"Le modèle linéaire est le meilleur avec un score de {:.3f}\".format(score_linear))\n",
    "else:\n",
    "    print(\"Le modèle polynomial est le meilleur avec un score de {:.3f}\".format(score_poly))\n"
   ]
  }
 ],
 "metadata": {
  "kernelspec": {
   "display_name": "Python 3 (ipykernel)",
   "language": "python",
   "name": "python3"
  },
  "language_info": {
   "codemirror_mode": {
    "name": "ipython",
    "version": 3
   },
   "file_extension": ".py",
   "mimetype": "text/x-python",
   "name": "python",
   "nbconvert_exporter": "python",
   "pygments_lexer": "ipython3",
   "version": "3.10.9"
  }
 },
 "nbformat": 4,
 "nbformat_minor": 5
}
